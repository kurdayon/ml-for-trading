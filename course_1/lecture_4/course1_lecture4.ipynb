{
 "cells": [
  {
   "cell_type": "code",
   "execution_count": 1,
   "id": "4fc0b6cf-2fe2-473e-9d48-1f78a704b829",
   "metadata": {},
   "outputs": [],
   "source": [
    "import pandas as pd\n",
    "import numpy as np\n",
    "import matplotlib.pyplot as plt"
   ]
  },
  {
   "cell_type": "markdown",
   "id": "a1d6235d-77e6-4b11-a562-907f2ec8dc53",
   "metadata": {},
   "source": [
    "# A Simple Synthetic Dataset"
   ]
  },
  {
   "cell_type": "code",
   "execution_count": 2,
   "id": "8e9e105f-061e-40a8-b06f-e4cc73fa1f43",
   "metadata": {},
   "outputs": [],
   "source": [
    "n_rows = 20\n",
    "\n",
    "indicator = np.random.uniform(-1.0, 1.0, size=20)\n",
    "noise = np.random.normal(0, 2, size=20)\n",
    "slope = 0.5\n",
    "intercept = 0.3\n",
    "price_change = slope * indicator + intercept + noise\n",
    "\n",
    "df = pd.DataFrame({\"indicator\": indicator,\"price_change\": price_change})"
   ]
  },
  {
   "cell_type": "markdown",
   "id": "8423195d-4bb6-4e84-bd2e-8c87bdc31fe9",
   "metadata": {},
   "source": [
    "Our only feature is called \"indicator\" and we use \"price_change\" as our target (something we want to predict)."
   ]
  },
  {
   "cell_type": "code",
   "execution_count": 4,
   "id": "7eef4f9b-5344-4b94-986c-57cb8ad105ea",
   "metadata": {},
   "outputs": [],
   "source": [
    "df['predictions'] = df.indicator * 0.1 + 0.2\n",
    "\n",
    "df['absolute_diff'] = np.abs(df.price_change - df.predictions)\n",
    "df['squared_diff'] = np.power(df.price_change - df.predictions, 2)"
   ]
  },
  {
   "cell_type": "code",
   "execution_count": 11,
   "id": "c7cc23d5-c82f-48e6-988f-f2da7d6e4a4c",
   "metadata": {},
   "outputs": [
    {
     "data": {
      "text/html": [
       "<div>\n",
       "<style scoped>\n",
       "    .dataframe tbody tr th:only-of-type {\n",
       "        vertical-align: middle;\n",
       "    }\n",
       "\n",
       "    .dataframe tbody tr th {\n",
       "        vertical-align: top;\n",
       "    }\n",
       "\n",
       "    .dataframe thead th {\n",
       "        text-align: right;\n",
       "    }\n",
       "</style>\n",
       "<table border=\"1\" class=\"dataframe\">\n",
       "  <thead>\n",
       "    <tr style=\"text-align: right;\">\n",
       "      <th></th>\n",
       "      <th>indicator</th>\n",
       "      <th>price_change</th>\n",
       "      <th>predictions</th>\n",
       "      <th>absolute_diff</th>\n",
       "      <th>squared_diff</th>\n",
       "    </tr>\n",
       "  </thead>\n",
       "  <tbody>\n",
       "    <tr>\n",
       "      <th>0</th>\n",
       "      <td>0.807915</td>\n",
       "      <td>-1.137766</td>\n",
       "      <td>0.280791</td>\n",
       "      <td>1.418557</td>\n",
       "      <td>2.012305</td>\n",
       "    </tr>\n",
       "    <tr>\n",
       "      <th>1</th>\n",
       "      <td>0.429039</td>\n",
       "      <td>0.583698</td>\n",
       "      <td>0.242904</td>\n",
       "      <td>0.340794</td>\n",
       "      <td>0.116140</td>\n",
       "    </tr>\n",
       "    <tr>\n",
       "      <th>2</th>\n",
       "      <td>-0.534112</td>\n",
       "      <td>1.394980</td>\n",
       "      <td>0.146589</td>\n",
       "      <td>1.248391</td>\n",
       "      <td>1.558480</td>\n",
       "    </tr>\n",
       "    <tr>\n",
       "      <th>3</th>\n",
       "      <td>0.759182</td>\n",
       "      <td>2.531521</td>\n",
       "      <td>0.275918</td>\n",
       "      <td>2.255603</td>\n",
       "      <td>5.087743</td>\n",
       "    </tr>\n",
       "    <tr>\n",
       "      <th>4</th>\n",
       "      <td>0.654192</td>\n",
       "      <td>1.746258</td>\n",
       "      <td>0.265419</td>\n",
       "      <td>1.480839</td>\n",
       "      <td>2.192883</td>\n",
       "    </tr>\n",
       "  </tbody>\n",
       "</table>\n",
       "</div>"
      ],
      "text/plain": [
       "   indicator  price_change  predictions  absolute_diff  squared_diff\n",
       "0   0.807915     -1.137766     0.280791       1.418557      2.012305\n",
       "1   0.429039      0.583698     0.242904       0.340794      0.116140\n",
       "2  -0.534112      1.394980     0.146589       1.248391      1.558480\n",
       "3   0.759182      2.531521     0.275918       2.255603      5.087743\n",
       "4   0.654192      1.746258     0.265419       1.480839      2.192883"
      ]
     },
     "execution_count": 11,
     "metadata": {},
     "output_type": "execute_result"
    }
   ],
   "source": [
    "df.head()"
   ]
  },
  {
   "cell_type": "code",
   "execution_count": 5,
   "id": "1cca12fe-1f77-4bb5-81ff-562812ce13ff",
   "metadata": {},
   "outputs": [],
   "source": [
    "mean_absolute_error = np.mean(df.absolute_diff)"
   ]
  },
  {
   "cell_type": "code",
   "execution_count": 6,
   "id": "f8a1577d-e1c7-4bc8-9606-1c56f6725b31",
   "metadata": {},
   "outputs": [],
   "source": [
    "mean_squared_error = np.mean(df.squared_diff)"
   ]
  },
  {
   "cell_type": "code",
   "execution_count": 8,
   "id": "94e92a29-74bc-4011-832f-c369f5134afc",
   "metadata": {},
   "outputs": [],
   "source": [
    "df['profit'] = df.price_change * df.predictions"
   ]
  },
  {
   "cell_type": "code",
   "execution_count": 10,
   "id": "d091c6d5-3c0e-4db6-855b-0ea000403157",
   "metadata": {},
   "outputs": [],
   "source": [
    "mean_profit = np.mean(df.profit)\n",
    "std_profit = np.std(df.profit)"
   ]
  },
  {
   "cell_type": "code",
   "execution_count": 11,
   "id": "004befa5-bcac-449b-9577-e38545824bc2",
   "metadata": {},
   "outputs": [],
   "source": [
    "sharpe_ratio = mean_profit / std_profit"
   ]
  },
  {
   "cell_type": "code",
   "execution_count": 12,
   "id": "3068df1a-e9f9-45cc-aa06-5a084a7fb5f5",
   "metadata": {},
   "outputs": [
    {
     "data": {
      "text/html": [
       "<div>\n",
       "<style scoped>\n",
       "    .dataframe tbody tr th:only-of-type {\n",
       "        vertical-align: middle;\n",
       "    }\n",
       "\n",
       "    .dataframe tbody tr th {\n",
       "        vertical-align: top;\n",
       "    }\n",
       "\n",
       "    .dataframe thead th {\n",
       "        text-align: right;\n",
       "    }\n",
       "</style>\n",
       "<table border=\"1\" class=\"dataframe\">\n",
       "  <thead>\n",
       "    <tr style=\"text-align: right;\">\n",
       "      <th></th>\n",
       "      <th>indicator</th>\n",
       "      <th>price_change</th>\n",
       "      <th>predictions</th>\n",
       "      <th>absolute_diff</th>\n",
       "      <th>squared_diff</th>\n",
       "      <th>profit</th>\n",
       "    </tr>\n",
       "  </thead>\n",
       "  <tbody>\n",
       "    <tr>\n",
       "      <th>0</th>\n",
       "      <td>0.018856</td>\n",
       "      <td>-2.990149</td>\n",
       "      <td>-0.099015</td>\n",
       "      <td>2.891134</td>\n",
       "      <td>8.358657</td>\n",
       "      <td>0.296069</td>\n",
       "    </tr>\n",
       "    <tr>\n",
       "      <th>1</th>\n",
       "      <td>0.935220</td>\n",
       "      <td>-0.999008</td>\n",
       "      <td>0.100099</td>\n",
       "      <td>1.099107</td>\n",
       "      <td>1.208036</td>\n",
       "      <td>-0.100000</td>\n",
       "    </tr>\n",
       "    <tr>\n",
       "      <th>2</th>\n",
       "      <td>0.003842</td>\n",
       "      <td>-0.997311</td>\n",
       "      <td>0.100269</td>\n",
       "      <td>1.097580</td>\n",
       "      <td>1.204681</td>\n",
       "      <td>-0.099999</td>\n",
       "    </tr>\n",
       "    <tr>\n",
       "      <th>3</th>\n",
       "      <td>-0.967632</td>\n",
       "      <td>1.424560</td>\n",
       "      <td>0.342456</td>\n",
       "      <td>1.082104</td>\n",
       "      <td>1.170949</td>\n",
       "      <td>0.487849</td>\n",
       "    </tr>\n",
       "    <tr>\n",
       "      <th>4</th>\n",
       "      <td>-0.012267</td>\n",
       "      <td>2.126956</td>\n",
       "      <td>0.412696</td>\n",
       "      <td>1.714260</td>\n",
       "      <td>2.938687</td>\n",
       "      <td>0.877785</td>\n",
       "    </tr>\n",
       "  </tbody>\n",
       "</table>\n",
       "</div>"
      ],
      "text/plain": [
       "   indicator  price_change  predictions  absolute_diff  squared_diff    profit\n",
       "0   0.018856     -2.990149    -0.099015       2.891134      8.358657  0.296069\n",
       "1   0.935220     -0.999008     0.100099       1.099107      1.208036 -0.100000\n",
       "2   0.003842     -0.997311     0.100269       1.097580      1.204681 -0.099999\n",
       "3  -0.967632      1.424560     0.342456       1.082104      1.170949  0.487849\n",
       "4  -0.012267      2.126956     0.412696       1.714260      2.938687  0.877785"
      ]
     },
     "execution_count": 12,
     "metadata": {},
     "output_type": "execute_result"
    }
   ],
   "source": [
    "df.head()"
   ]
  },
  {
   "cell_type": "code",
   "execution_count": 13,
   "id": "79d629f6-6b46-412a-9f37-280a84886b06",
   "metadata": {},
   "outputs": [
    {
     "data": {
      "text/plain": [
       "0.5441903433010148"
      ]
     },
     "execution_count": 13,
     "metadata": {},
     "output_type": "execute_result"
    }
   ],
   "source": [
    "sharpe_ratio"
   ]
  },
  {
   "cell_type": "code",
   "execution_count": null,
   "id": "4a00ca30-a99b-49b7-bb28-18ecc69d5a10",
   "metadata": {},
   "outputs": [],
   "source": []
  }
 ],
 "metadata": {
  "kernelspec": {
   "display_name": "Python 3 (ipykernel)",
   "language": "python",
   "name": "python3"
  },
  "language_info": {
   "codemirror_mode": {
    "name": "ipython",
    "version": 3
   },
   "file_extension": ".py",
   "mimetype": "text/x-python",
   "name": "python",
   "nbconvert_exporter": "python",
   "pygments_lexer": "ipython3",
   "version": "3.9.6"
  }
 },
 "nbformat": 4,
 "nbformat_minor": 5
}
